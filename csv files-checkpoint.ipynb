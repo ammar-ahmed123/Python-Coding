{
 "cells": [
  {
   "cell_type": "markdown",
   "metadata": {},
   "source": [
    "# reading data from csv file"
   ]
  },
  {
   "cell_type": "code",
   "execution_count": 7,
   "metadata": {},
   "outputs": [],
   "source": [
    "import csv"
   ]
  },
  {
   "cell_type": "code",
   "execution_count": 10,
   "metadata": {},
   "outputs": [
    {
     "name": "stdout",
     "output_type": "stream",
     "text": [
      "['year', 'event', 'winner']\n",
      "['1995', 'best-kept', '', 'none']\n",
      "['1999', 'gobestones', 'welch national']\n",
      "['2006', 'worldcup', 'burkina faso']\n"
     ]
    }
   ],
   "source": [
    "with open(\"abc.csv\") as file:   # by default read\n",
    "    contents = csv.reader(file)\n",
    "    for content in contents:    # get data with for loop\n",
    "        print(content)"
   ]
  },
  {
   "cell_type": "markdown",
   "metadata": {},
   "source": [
    "# writing data"
   ]
  },
  {
   "cell_type": "code",
   "execution_count": 12,
   "metadata": {},
   "outputs": [],
   "source": [
    "with open(\"xyz.csv\",\"w\",newline=\"\") as file:  # in W mode file is created if not exists and overwrite data\n",
    "    filewriter = csv.writer(file)\n",
    "    filewriter.writerow([\"2019\",\"cw2019\",\"ENG\"])"
   ]
  },
  {
   "cell_type": "code",
   "execution_count": 13,
   "metadata": {},
   "outputs": [],
   "source": [
    "#overwrite data"
   ]
  },
  {
   "cell_type": "code",
   "execution_count": 14,
   "metadata": {},
   "outputs": [],
   "source": [
    "with open(\"xyz.csv\",\"w\",newline=\"\") as file:\n",
    "    filewriter = csv.writer(file)\n",
    "    filewriter.writerow([\"2020\",\"cw2019\",\"ENG\"])"
   ]
  },
  {
   "cell_type": "markdown",
   "metadata": {},
   "source": [
    "# append data"
   ]
  },
  {
   "cell_type": "code",
   "execution_count": 15,
   "metadata": {},
   "outputs": [],
   "source": [
    "with open(\"xyz.csv\",\"a\",newline=\"\") as file:      # in a mode file is created if not exists and donot overwrite data\n",
    "    filewriter = csv.writer(file)\n",
    "    filewriter.writerow([\"2021\",\"cw2019\",\"ENG\"])\n",
    "    filewriter.writerow([\"2022\",\"cw2019\",\"ENG\"])"
   ]
  },
  {
   "cell_type": "code",
   "execution_count": null,
   "metadata": {},
   "outputs": [],
   "source": []
  }
 ],
 "metadata": {
  "kernelspec": {
   "display_name": "Python 3",
   "language": "python",
   "name": "python3"
  },
  "language_info": {
   "codemirror_mode": {
    "name": "ipython",
    "version": 3
   },
   "file_extension": ".py",
   "mimetype": "text/x-python",
   "name": "python",
   "nbconvert_exporter": "python",
   "pygments_lexer": "ipython3",
   "version": "3.7.3"
  }
 },
 "nbformat": 4,
 "nbformat_minor": 2
}
