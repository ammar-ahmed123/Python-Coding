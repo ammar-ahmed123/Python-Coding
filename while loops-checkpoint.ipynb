{
 "cells": [
  {
   "cell_type": "code",
   "execution_count": 3,
   "metadata": {},
   "outputs": [
    {
     "name": "stdout",
     "output_type": "stream",
     "text": [
      "0 this is while loops\n",
      "1 this is while loops\n",
      "2 this is while loops\n",
      "3 this is while loops\n",
      "4 this is while loops\n",
      "5 this is while loops\n",
      "6 this is while loops\n",
      "7 this is while loops\n",
      "8 this is while loops\n",
      "9 this is while loops\n",
      "10 this is while loops\n"
     ]
    }
   ],
   "source": [
    "a=0\n",
    "while a<=10:\n",
    "    print(a,\"this is while loops\")\n",
    "    a +=1"
   ]
  },
  {
   "cell_type": "code",
   "execution_count": 4,
   "metadata": {},
   "outputs": [
    {
     "name": "stdout",
     "output_type": "stream",
     "text": [
      "0 this is for loops\n",
      "1 this is for loops\n",
      "2 this is for loops\n",
      "3 this is for loops\n",
      "4 this is for loops\n",
      "5 this is for loops\n",
      "6 this is for loops\n",
      "7 this is for loops\n",
      "8 this is for loops\n",
      "9 this is for loops\n"
     ]
    }
   ],
   "source": [
    "for num in range(10):\n",
    "    print(num,\"this is for loops\")"
   ]
  },
  {
   "cell_type": "code",
   "execution_count": 8,
   "metadata": {},
   "outputs": [
    {
     "name": "stdout",
     "output_type": "stream",
     "text": [
      "enter your favourite foodsbiryani\n",
      "enter your favourite foodskarahi\n",
      "enter your favourite foodsaa\n",
      "enter your favourite foodssss\n",
      "enter your favourite foodsddd\n",
      "enter your favourite foodsfff\n",
      "enter your favourite foodsgg\n",
      "enter your favourite foodshh\n",
      "enter your favourite foodszz\n",
      "enter your favourite foodsxx\n"
     ]
    }
   ],
   "source": [
    "a= 0\n",
    "while a<10:\n",
    "    userinput= input(\"enter your favourite foods\")\n",
    "    a +=1"
   ]
  },
  {
   "cell_type": "markdown",
   "metadata": {},
   "source": [
    "# setting a flag"
   ]
  },
  {
   "cell_type": "code",
   "execution_count": 12,
   "metadata": {},
   "outputs": [
    {
     "name": "stdout",
     "output_type": "stream",
     "text": [
      "enter your favourite foodsbiryani\n",
      "enter your favourite foodskarhai\n",
      "enter your favourite foodsdaal\n",
      "enter your favourite foodschawal\n",
      "enter your favourite foodsaaa\n",
      "enter your favourite foodsq\n",
      "enter your favourite foodsQ\n"
     ]
    }
   ],
   "source": [
    "flag = True          # best example while loops\n",
    "favfood=[]   # list\n",
    "while flag:\n",
    "    userinput= input(\"enter your favourite foods\")\n",
    "    if userinput== \"Q\":\n",
    "        flag = False\n",
    "    else:\n",
    "            favfood.append(userinput)    # append hoga list mai\n",
    "#favfood            "
   ]
  },
  {
   "cell_type": "code",
   "execution_count": 13,
   "metadata": {},
   "outputs": [
    {
     "data": {
      "text/plain": [
       "['biryani', 'karhai', 'daal', 'chawal', 'aaa', 'q']"
      ]
     },
     "execution_count": 13,
     "metadata": {},
     "output_type": "execute_result"
    }
   ],
   "source": [
    "favfood"
   ]
  },
  {
   "cell_type": "code",
   "execution_count": null,
   "metadata": {},
   "outputs": [],
   "source": []
  }
 ],
 "metadata": {
  "kernelspec": {
   "display_name": "Python 3",
   "language": "python",
   "name": "python3"
  },
  "language_info": {
   "codemirror_mode": {
    "name": "ipython",
    "version": 3
   },
   "file_extension": ".py",
   "mimetype": "text/x-python",
   "name": "python",
   "nbconvert_exporter": "python",
   "pygments_lexer": "ipython3",
   "version": "3.7.3"
  }
 },
 "nbformat": 4,
 "nbformat_minor": 2
}
