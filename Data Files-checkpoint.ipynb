{
 "cells": [
  {
   "cell_type": "code",
   "execution_count": null,
   "metadata": {},
   "outputs": [],
   "source": [
    "# reading mode\n",
    "# writing mode\n",
    "# append mode"
   ]
  },
  {
   "cell_type": "markdown",
   "metadata": {},
   "source": [
    "# reading a file"
   ]
  },
  {
   "cell_type": "code",
   "execution_count": 14,
   "metadata": {},
   "outputs": [
    {
     "name": "stdout",
     "output_type": "stream",
     "text": [
      "this is a test file. we will read the file from python codes...\n"
     ]
    }
   ],
   "source": [
    "with open(\"testingdatafile\" , \"r\") as file:    # in r mode file does not created automaically\n",
    "    content= file.read()   \n",
    "print(content)    "
   ]
  },
  {
   "cell_type": "markdown",
   "metadata": {},
   "source": [
    "# writing a file"
   ]
  },
  {
   "cell_type": "code",
   "execution_count": 15,
   "metadata": {},
   "outputs": [],
   "source": [
    "with open(\"testingdatafile\", \"w\") as file:   # if file does't exists in w mode file will created automaically \n",
    "    file.write(\"hello datafile\")"
   ]
  },
  {
   "cell_type": "code",
   "execution_count": 16,
   "metadata": {},
   "outputs": [],
   "source": [
    "with open(\"testingdatafile\", \"w\") as f:\n",
    "    f.write(\"this is testing\")"
   ]
  },
  {
   "cell_type": "code",
   "execution_count": 17,
   "metadata": {},
   "outputs": [],
   "source": [
    "# if file does not exist, W mode will create a file and wite it\n",
    "\n",
    "with open(\"nonexistfile\", \"w\") as file:\n",
    "    file.write(\"this file does not exist\")"
   ]
  },
  {
   "cell_type": "markdown",
   "metadata": {},
   "source": [
    "# append a file in writing mode"
   ]
  },
  {
   "cell_type": "code",
   "execution_count": 28,
   "metadata": {},
   "outputs": [],
   "source": [
    "# in append mode file does not over write data \n",
    "# if file does't exists append mode file created automatically\n",
    "\n",
    "with open(\"nonexistfile\", \"a\") as file:\n",
    "    file.write(\"this text is written in append mode\")"
   ]
  },
  {
   "cell_type": "markdown",
   "metadata": {},
   "source": [
    "# r+ and w+ modes"
   ]
  },
  {
   "cell_type": "code",
   "execution_count": 24,
   "metadata": {},
   "outputs": [
    {
     "name": "stdout",
     "output_type": "stream",
     "text": [
      "this file does not exist\n"
     ]
    }
   ],
   "source": [
    "with open(\"mynewfile\", \"w+\") as file:         # if file does't exists in w+ mode file will created automaically \n",
    "    file.write(\"this file does not exist\")\n",
    "    \n",
    "    file.seek(0)\n",
    "    print(file.read() )"
   ]
  },
  {
   "cell_type": "code",
   "execution_count": 26,
   "metadata": {},
   "outputs": [
    {
     "name": "stdout",
     "output_type": "stream",
     "text": [
      "this file does not existthis file does not existthis file does not exist\n"
     ]
    }
   ],
   "source": [
    "with open(\"mynewfile\", \"r+\") as file:   # in r+ mode file does not created automaically\n",
    "    file.write(\"this file does not exist\")\n",
    "    file.write(\"this file does not exist\")\n",
    "    file.write(\"this file does not exist\")\n",
    "    \n",
    "    file.seek(0)\n",
    "    print(file.read() )"
   ]
  },
  {
   "cell_type": "code",
   "execution_count": null,
   "metadata": {},
   "outputs": [],
   "source": []
  }
 ],
 "metadata": {
  "kernelspec": {
   "display_name": "Python 3",
   "language": "python",
   "name": "python3"
  },
  "language_info": {
   "codemirror_mode": {
    "name": "ipython",
    "version": 3
   },
   "file_extension": ".py",
   "mimetype": "text/x-python",
   "name": "python",
   "nbconvert_exporter": "python",
   "pygments_lexer": "ipython3",
   "version": "3.7.3"
  }
 },
 "nbformat": 4,
 "nbformat_minor": 2
}
