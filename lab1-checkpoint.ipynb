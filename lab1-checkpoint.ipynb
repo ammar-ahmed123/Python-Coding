{
 "cells": [
  {
   "cell_type": "code",
   "execution_count": 12,
   "metadata": {},
   "outputs": [
    {
     "name": "stdout",
     "output_type": "stream",
     "text": [
      "enter the name:ammar\n",
      "you are right\n"
     ]
    }
   ],
   "source": [
    "name = input(\"enter the name:\")\n",
    "if name ==\"ammar\":\n",
    "    print(\"you are right\")\n",
    "else:\n",
    "    print(\"you are wrong\")\n",
    "    \n"
   ]
  },
  {
   "cell_type": "code",
   "execution_count": 10,
   "metadata": {},
   "outputs": [
    {
     "name": "stdout",
     "output_type": "stream",
     "text": [
      "1 ammar\n",
      "2 ammar\n",
      "3 ammar\n",
      "4 ammar\n",
      "5 ammar\n"
     ]
    }
   ],
   "source": [
    "for i in range(1,6):\n",
    "    print(i,\"ammar\")"
   ]
  },
  {
   "cell_type": "code",
   "execution_count": 1,
   "metadata": {},
   "outputs": [
    {
     "name": "stdout",
     "output_type": "stream",
     "text": [
      "5\n",
      "4\n",
      "3\n",
      "2\n",
      "1\n"
     ]
    }
   ],
   "source": [
    "x =5\n",
    "while x > 0:\n",
    "    print(x)\n",
    "    x-=1"
   ]
  },
  {
   "cell_type": "code",
   "execution_count": 4,
   "metadata": {},
   "outputs": [
    {
     "name": "stdout",
     "output_type": "stream",
     "text": [
      "['ammar', 1, 2, 3, 4, 5]\n"
     ]
    }
   ],
   "source": [
    "list=[\"ammar\",1,2,3,4,5]\n",
    "print(list)"
   ]
  },
  {
   "cell_type": "code",
   "execution_count": 6,
   "metadata": {},
   "outputs": [
    {
     "name": "stdout",
     "output_type": "stream",
     "text": [
      "enter the number5\n",
      "enter the number5\n",
      "sum is 10\n"
     ]
    }
   ],
   "source": [
    "num1 = int(input(\"enter the number\"))\n",
    "num2 = int(input(\"enter the number\"))\n",
    "print(\"sum is\",num1+num2)"
   ]
  },
  {
   "cell_type": "code",
   "execution_count": 14,
   "metadata": {},
   "outputs": [
    {
     "name": "stdout",
     "output_type": "stream",
     "text": [
      "enter the number:ammarejaz@gmail.com\n",
      "firstname and lastname ['ammarejaz', 'gmail.com']\n"
     ]
    }
   ],
   "source": [
    "email = input(\"enter the number:\")\n",
    "x = email.split(\"@\")\n",
    "print(\"firstname and lastname\",x)"
   ]
  },
  {
   "cell_type": "code",
   "execution_count": 1,
   "metadata": {},
   "outputs": [
    {
     "name": "stdout",
     "output_type": "stream",
     "text": [
      "enter the weight52\n",
      "enter the height5.5\n",
      "Body Mass Index is 1208.4628099173553\n"
     ]
    }
   ],
   "source": [
    "weight = float(input(\"enter the weight\"))\n",
    "height = float(input(\"enter the height\"))\n",
    "bmi = (weight/(height*height))*703\n",
    "print(\"Body Mass Index is\",bmi)"
   ]
  },
  {
   "cell_type": "code",
   "execution_count": 4,
   "metadata": {},
   "outputs": [
    {
     "name": "stdout",
     "output_type": "stream",
     "text": [
      "Quotient is:  (4, 0)\n",
      "Remainder is:  (4, 0)\n"
     ]
    }
   ],
   "source": [
    "num = 20\n",
    "divisor = 5\n",
    "quo = divmod(num,divisor)\n",
    "rem = divmod(num,divisor)\n",
    "print(\"Quotient is: \", quo)\n",
    "print(\"Remainder is: \", rem)\n"
   ]
  },
  {
   "cell_type": "code",
   "execution_count": null,
   "metadata": {},
   "outputs": [],
   "source": []
  },
  {
   "cell_type": "code",
   "execution_count": null,
   "metadata": {},
   "outputs": [],
   "source": []
  }
 ],
 "metadata": {
  "kernelspec": {
   "display_name": "Python 3",
   "language": "python",
   "name": "python3"
  },
  "language_info": {
   "codemirror_mode": {
    "name": "ipython",
    "version": 3
   },
   "file_extension": ".py",
   "mimetype": "text/x-python",
   "name": "python",
   "nbconvert_exporter": "python",
   "pygments_lexer": "ipython3",
   "version": "3.7.3"
  }
 },
 "nbformat": 4,
 "nbformat_minor": 2
}
