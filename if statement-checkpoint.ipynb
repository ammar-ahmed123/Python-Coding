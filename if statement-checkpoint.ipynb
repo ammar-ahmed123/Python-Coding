{
 "cells": [
  {
   "cell_type": "code",
   "execution_count": 4,
   "metadata": {},
   "outputs": [
    {
     "name": "stdout",
     "output_type": "stream",
     "text": [
      "hello A\n",
      "a is less than b\n"
     ]
    }
   ],
   "source": [
    "a=100\n",
    "b=200\n",
    "\n",
    "if a<b:\n",
    "    print(\"hello A\")\n",
    "    print(\"a is less than b\")"
   ]
  },
  {
   "cell_type": "code",
   "execution_count": 5,
   "metadata": {},
   "outputs": [
    {
     "name": "stdout",
     "output_type": "stream",
     "text": [
      "hello A\n",
      "a is less than b\n",
      "pakistan\n"
     ]
    }
   ],
   "source": [
    "if a<b:\n",
    "    print(\"hello A\")\n",
    "    print(\"a is less than b\")\n",
    "print(\"pakistan\")      # out  of the line code print exactly"
   ]
  },
  {
   "cell_type": "code",
   "execution_count": null,
   "metadata": {},
   "outputs": [],
   "source": []
  }
 ],
 "metadata": {
  "kernelspec": {
   "display_name": "Python 3",
   "language": "python",
   "name": "python3"
  },
  "language_info": {
   "codemirror_mode": {
    "name": "ipython",
    "version": 3
   },
   "file_extension": ".py",
   "mimetype": "text/x-python",
   "name": "python",
   "nbconvert_exporter": "python",
   "pygments_lexer": "ipython3",
   "version": "3.7.3"
  }
 },
 "nbformat": 4,
 "nbformat_minor": 2
}
